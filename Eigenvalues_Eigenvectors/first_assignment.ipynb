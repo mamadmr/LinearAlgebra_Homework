{
 "cells": [
  {
   "cell_type": "markdown",
   "metadata": {},
   "source": [
    "# Eigenvalues and Eigenvectors 1"
   ]
  },
  {
   "cell_type": "markdown",
   "metadata": {},
   "source": [
    "Up to this point, almost everything was either motivated by or evolved from the  \n",
    "**consideration of systems of linear algebraic equations**. But we have come to a  \n",
    "turning point, and from now on the emphasis will be **diﬀerent**.  \n",
    "\n",
    "Rather than being concerned with systems of algebraic equations, many topics will be  \n",
    "motivated or driven by applications involving systems of **linear diﬀerential equations**  \n",
    "and their discrete counterparts, **diﬀerence equations**."
   ]
  },
  {
   "cell_type": "markdown",
   "metadata": {},
   "source": [
    "consider these two equations:\n",
    "\n",
    "$$\n",
    "\\frac{du_1}{dt} = 7u_1 - 4u_2\n",
    "$$\n",
    "\n",
    "$$\n",
    "\\frac{du_2}{dt} = 5u_1 - 2u_2\n",
    "$$ \n",
    "\n",
    "\n",
    "\n",
    "we can show these equesions in matrix form as:\n",
    "\n"
   ]
  },
  {
   "cell_type": "markdown",
   "metadata": {},
   "source": [
    "  \\begin{array}{cc}\n",
    "  \\begin{bmatrix}\n",
    "  u'_1 \\\\\n",
    "  u'_2\n",
    "  \\end{bmatrix}\n",
    "   = \n",
    "  \\begin{bmatrix}\n",
    "  7 & -4 \\\\\n",
    "  5 & -2  \\\\\n",
    "  \\end{bmatrix}\n",
    "\n",
    "  \\begin{bmatrix}\n",
    "  u_1 \\\\\n",
    "  u_2\n",
    "  \\end{bmatrix}\n",
    "\n",
    "  \\end{array}"
   ]
  },
  {
   "cell_type": "markdown",
   "metadata": {},
   "source": [
    "or, equivalently:\n",
    "$$ \n",
    "u' = Au\n",
    "$$"
   ]
  },
  {
   "cell_type": "markdown",
   "metadata": {},
   "source": [
    "Because solutions of a single equation $u' = \\lambda u$ have the form $u = \\alpha e^{\\lambda t}$, we are motivated to seek solutions of the system \n",
    "\n",
    "$$\n",
    "\\frac{du_1}{dt} = 7u_1 - 4u_2 \\quad \\text{and} \\quad \\frac{du_2}{dt} = 5u_1 - 2u_2\n",
    "$$ \n",
    "\n",
    "that also have the form \n",
    "\n",
    "$$\n",
    "u_1 = \\alpha_1 e^{\\lambda t} \\quad \\text{and} \\quad u_2 = \\alpha_2 e^{\\lambda t}.\n",
    "$$"
   ]
  },
  {
   "cell_type": "markdown",
   "metadata": {},
   "source": [
    "Differentiating these two expressions and substituting the results into the system of equations, we get:\n",
    "\n",
    "$$\n",
    "\\alpha_1 \\lambda e^{\\lambda t} = 7\\alpha_1 e^{\\lambda t} - 4\\alpha_2 e^{\\lambda t}\n",
    "$$\n",
    "\n",
    "$$\n",
    "\\alpha_2 \\lambda e^{\\lambda t} = 5\\alpha_1 e^{\\lambda t} - 2\\alpha_2 e^{\\lambda t}\n",
    "$$\n",
    "\n",
    "This simplifies to:\n",
    "\n",
    "$$\n",
    "\\alpha_1 \\lambda = 7\\alpha_1 - 4\\alpha_2\n",
    "$$\n",
    "\n",
    "$$\n",
    "\\alpha_2 \\lambda = 5\\alpha_1 - 2\\alpha_2\n",
    "$$\n",
    "\n",
    "In matrix form, this can be written as:\n",
    "\n",
    "$$\n",
    "\\begin{bmatrix}\n",
    "7 & -4 \\\\\n",
    "5 & -2\n",
    "\\end{bmatrix}\n",
    "\\begin{bmatrix}\n",
    "\\alpha_1 \\\\\n",
    "\\alpha_2\n",
    "\\end{bmatrix}\n",
    "= \\lambda \n",
    "\\begin{bmatrix}\n",
    "\\alpha_1 \\\\\n",
    "\\alpha_2\n",
    "\\end{bmatrix}\n",
    "$$"
   ]
  },
  {
   "cell_type": "markdown",
   "metadata": {},
   "source": [
    "if we define $x = \\begin{bmatrix} \\alpha_1 \\\\ \\alpha_2 \\end{bmatrix}$ then we can write the above equation as $Ax = \\lambda x$ \n",
    "\n",
    "so if we can find $\\lambda$ and $x$ then we can find the solution of the system of equations."
   ]
  },
  {
   "cell_type": "markdown",
   "metadata": {},
   "source": [
    "$x=0$ is always a solution to the above equation, but we are interested in finding non-zero solutions. \n",
    "what we really need are scalars $\\lambda$ and vectors $x$ that satisfy the equation $Ax = \\lambda x$ "
   ]
  },
  {
   "cell_type": "markdown",
   "metadata": {},
   "source": [
    "writing this equation as $(A - \\lambda I)x = 0$ shows that the vecotors of interest are the non-zero vectors in the null space of the matrix $A - \\lambda I$"
   ]
  },
  {
   "cell_type": "markdown",
   "metadata": {},
   "source": [
    "but $A - \\lambda I$ has non-zero vectors in its null space **if and only if** it is singular(its determinant is zero). \n",
    "which means it's not full rank and it's not invertible."
   ]
  },
  {
   "cell_type": "markdown",
   "metadata": {
    "vscode": {
     "languageId": "plaintext"
    }
   },
   "source": [
    "so we want the values of $\\lambda$ for which the matrix $A-\\lambda I$ is singular. "
   ]
  },
  {
   "cell_type": "markdown",
   "metadata": {
    "vscode": {
     "languageId": "plaintext"
    }
   },
   "source": [
    "For an $n \\times n$ matrix $A$, scalars $\\lambda$ and vectors $x_{n \\times 1} \\neq 0$ satisfying\n",
    "$$\n",
    "Ax = \\lambda x\n",
    "$$\n",
    "\n",
    "are called **eigenvalues** and **eigenvectors** of $A$, respectively, and any such pair $(\\lambda, x)$ is called an **eigenpair** for $A$. The set of distinct eigenvalues, denoted by $\\sigma(A)$, is called the **spectrum** of $A$.\n",
    "\n",
    "- $\\lambda \\in \\sigma(A) \\iff A - \\lambda I$ is singular $\\iff \\det(A - \\lambda I) = 0$. \n",
    "- $\\{ x \\neq 0 \\, | \\, x \\in N(A - \\lambda I) \\}$ is the set of all eigenvectors associated with $\\lambda$.\n",
    "\n",
    "From now on, $N(A - \\lambda I)$ is called an eigenspace for $A$.\n"
   ]
  },
  {
   "cell_type": "markdown",
   "metadata": {},
   "source": [
    "Geometrically, $Ax = \\lambda x$ says that under transformation by $A$, eigenvectors experience only changes in magnitude or sign.\n",
    "the orientation of $Ax$ in $R^n$ is the same as that of $x$. The eigenvalue $\\lambda$ is simply the amount of **stretch** or **shrink** to which the eigenvector $x$ is subjected when transformed by $A$."
   ]
  },
  {
   "cell_type": "markdown",
   "metadata": {},
   "source": [
    "### Question 1 \n",
    "#### write a function that calculates the determinant of $n \\times n$ matrix $A$."
   ]
  },
  {
   "cell_type": "code",
   "execution_count": null,
   "metadata": {},
   "outputs": [],
   "source": [
    "def det(A: list) -> float:\n",
    "    det_A = -1 \n",
    "    # write your code here\n",
    "    return det_A"
   ]
  },
  {
   "cell_type": "code",
   "execution_count": null,
   "metadata": {},
   "outputs": [],
   "source": [
    "# test your function with the following example\n",
    "A = [[1, 2], [3, 4]]\n",
    "print(det(A)) \n",
    "A = [[1, 2, 3], [4, 5, 6], [7, 8, 9]]\n",
    "print(det(A))"
   ]
  },
  {
   "cell_type": "markdown",
   "metadata": {},
   "source": [
    "### Question 2\n",
    "#### write a function that takes a matrix $A$ and return the $\\sigma(A)$ \n",
    " \n",
    "don't use numpy or any other library to find the eigenvalues, you should make an equsion base on the determinant of $A - \\lambda I$ and solve it to find the eigenvalues.\n",
    "\n",
    "suppose the matrix $A$ is 2x2 matrix. \n",
    "\n",
    "\n"
   ]
  },
  {
   "cell_type": "code",
   "execution_count": null,
   "metadata": {},
   "outputs": [],
   "source": [
    "def sigma(A: list) -> set:\n",
    "    answers = set()\n",
    "    # write your code here\n",
    "    return answers"
   ]
  },
  {
   "cell_type": "code",
   "execution_count": null,
   "metadata": {},
   "outputs": [],
   "source": [
    "# test your function with the following test cases\n",
    "print(sigma([[1, 2], [3, 4]])) \n",
    "print(sigma([[4, -4],[5, 2]]))"
   ]
  },
  {
   "cell_type": "markdown",
   "metadata": {},
   "source": [
    "### Question 3\n",
    "#### write a function that takes a matrix $A$ and an eigenvalue $\\lambda$ and return one eigenvector associated with $\\lambda$.\n"
   ]
  },
  {
   "cell_type": "code",
   "execution_count": null,
   "metadata": {},
   "outputs": [],
   "source": [
    "def one_eigenvector(A: list, eigenvalues: int) -> list:\n",
    "    eigenvector = []\n",
    "    # write your code here\n",
    "    return eigenvector"
   ]
  },
  {
   "cell_type": "markdown",
   "metadata": {},
   "source": [
    "### Question 4\n",
    "#### write a function that takes a matrix $A$ and returns the bases for it's column space.\n"
   ]
  },
  {
   "cell_type": "code",
   "execution_count": null,
   "metadata": {},
   "outputs": [],
   "source": [
    "def column_space(A: list) -> list:\n",
    "    column_space = []\n",
    "    # write your code here\n",
    "    return column_space"
   ]
  },
  {
   "cell_type": "markdown",
   "metadata": {},
   "source": [
    "### Question 5\n",
    "#### write a function that takes a matrix $A$ and eigenvalue $\\lambda$ and return basis for the eigenspace associated with $\\lambda$."
   ]
  },
  {
   "cell_type": "code",
   "execution_count": null,
   "metadata": {},
   "outputs": [],
   "source": [
    "def eigenvectors_space(A: list, eigenvalues: int) -> list:\n",
    "    eigenvectors = []\n",
    "    # write your code here\n",
    "    return eigenvectors"
   ]
  },
  {
   "cell_type": "markdown",
   "metadata": {},
   "source": [
    "### Question 6\n",
    "#### write a function that takes differntional equations with two variables and print the answer in any form you like.\n",
    "\n",
    "for example it takes the following matrix: \n",
    "$$\n",
    "\\begin{bmatrix}\n",
    "7 & -4 \\\\\n",
    "5 & -2\n",
    "\\end{bmatrix}\n",
    "$$\n",
    "\n",
    "that is associated with the following differential equations:\n",
    "$$\n",
    "\\frac{du_1}{dt} = 7u_1 - 4u_2 \\quad \\text{and} \\quad \\frac{du_2}{dt} = 5u_1 - 2u_2\n",
    "$$\n",
    "\n",
    "then your code should print the u1 and u2 in terms of t. \n"
   ]
  },
  {
   "cell_type": "code",
   "execution_count": null,
   "metadata": {},
   "outputs": [],
   "source": [
    "# write your code here"
   ]
  },
  {
   "cell_type": "markdown",
   "metadata": {},
   "source": [
    "### Question 7\n",
    "#### write a function that takes $\\alpha$ and return a transformation matrix that transforms the vector $x \\in \\mathbb{R}^2$ to $\\alpha x$."
   ]
  },
  {
   "cell_type": "code",
   "execution_count": null,
   "metadata": {},
   "outputs": [],
   "source": [
    "def generate_transformation_matrix(a) -> list:\n",
    "    T = []\n",
    "    # write your code here\n",
    "    return T"
   ]
  },
  {
   "cell_type": "markdown",
   "metadata": {},
   "source": [
    "### Question 8\n",
    "#### explain the difference between the transformation matrix in question 7 and the matrix $A$ wich is transformation matrix for eigenvectors to eigenvalues.\n",
    "\n",
    "hint: as you might know the transformation matrixes are unique, that means for a given transformation there is only one transformation matrix. so explain why the transformation matrix in question 7 is different from the matrix $A$ which do the same transformation for some eigenvalues. \n",
    "\n",
    "(write your answer in a markdown cell below in any language you like)\n"
   ]
  },
  {
   "cell_type": "markdown",
   "metadata": {},
   "source": [
    "#### write your answer here: "
   ]
  }
 ],
 "metadata": {
  "kernelspec": {
   "display_name": "Python 3",
   "language": "python",
   "name": "python3"
  },
  "language_info": {
   "codemirror_mode": {
    "name": "ipython",
    "version": 3
   },
   "file_extension": ".py",
   "mimetype": "text/x-python",
   "name": "python",
   "nbconvert_exporter": "python",
   "pygments_lexer": "ipython3",
   "version": "3.11.3"
  }
 },
 "nbformat": 4,
 "nbformat_minor": 2
}
