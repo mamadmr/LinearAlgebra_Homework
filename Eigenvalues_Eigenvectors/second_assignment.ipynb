{
 "cells": [
  {
   "cell_type": "markdown",
   "metadata": {},
   "source": [
    "# Eigenvalues and Eigenvectors 2"
   ]
  },
  {
   "cell_type": "markdown",
   "metadata": {},
   "source": [
    "* **principal submatrix** of $A_{n \\times n}$ is a submatrix of $A$ obtained by deleting the same set of rows and columns from $A$.\n",
    "\n",
    "* an $r \\times r$ **principal minor** of $A_{n \\times n}$ is the determinant of a principal submatrix of $A$.\n",
    "\n",
    "* in other word an $r \\times r$ principal minor of $A$ is can be obtained by selecting $r$ same rows and columns from $A$ and calculating the determinant of the resulting submatrix.\n",
    "\n",
    "for example:\n",
    "$$\n",
    "A = \n",
    "\\begin{bmatrix}\n",
    "-3 & 1 & -3 \\\\\n",
    "20 & 3 & 10 \\\\\n",
    "2 & -2 & 4\n",
    "\\end{bmatrix}\n",
    "$$\n",
    "\n",
    "the $2 \\times 2$ principal minors of $A$ are:\n",
    "$$\n",
    "\\begin{align*}\n",
    "\\begin{vmatrix}\n",
    "-3 & 1 \\\\\n",
    "20 & 3 \n",
    "\\end{vmatrix} &= -3 \\times 3 - 1 \\times 20 = -29 \\\\\n",
    "\\begin{vmatrix}\n",
    "-3 & -3 \\\\\n",
    "2 & 4\n",
    "\\end{vmatrix} &= -3 \\times 4 - (-3) \\times 2 = -6 \\\\\n",
    "\\begin{vmatrix}\n",
    "3 & 10 \\\\\n",
    "-2 & 4\n",
    "\\end{vmatrix} &= 3 \\times 4 - 10 \\times (-2) = 32\n",
    "\\end{align*}\n",
    "$$\n"
   ]
  },
  {
   "cell_type": "markdown",
   "metadata": {},
   "source": [
    "the $k^{th}$ **symmetric function** of $\\lambda_1, \\lambda_2, \\ldots, \\lambda_n$ is defined like this:\n",
    "$$\n",
    "\\begin{align*}\n",
    "s_k = \\sum_{1 \\leq i_1 < i_2 < \\ldots < i_k \\leq n} \\lambda_{i_1} \\lambda_{i_2} \\ldots \\lambda_{i_k}\n",
    "\\end{align*}\n",
    "\n"
   ]
  },
  {
   "cell_type": "markdown",
   "metadata": {},
   "source": [
    "for example for $n = 4$:\n",
    "$$\n",
    "\\begin{align*}\n",
    "s_1 &= \\lambda_1 + \\lambda_2 + \\lambda_3 + \\lambda_4 \\\\\n",
    "s_2 &= \\lambda_1 \\lambda_2 + \\lambda_1 \\lambda_3 + \\lambda_1 \\lambda_4 + \\lambda_2 \\lambda_3 + \\lambda_2 \\lambda_4 + \\lambda_3 \\lambda_4 \\\\\n",
    "s_3 &= \\lambda_1 \\lambda_2 \\lambda_3 + \\lambda_1 \\lambda_2 \\lambda_4 + \\lambda_1 \\lambda_3 \\lambda_4 + \\lambda_2 \\lambda_3 \\lambda_4 \\\\\n",
    "s_4 &= \\lambda_1 \\lambda_2 \\lambda_3 \\lambda_4\n",
    "\\end{align*}\n",
    "$$"
   ]
  },
  {
   "cell_type": "markdown",
   "metadata": {},
   "source": [
    "**characteristic equation** of $A_{n \\times n}$ is defined like this:\n",
    "$$\n",
    "\\begin{align*}\n",
    "\\det(A - \\lambda I) = 0\n",
    "\\end{align*}"
   ]
  },
  {
   "cell_type": "markdown",
   "metadata": {},
   "source": [
    "$trace(A)$ is the sum of the main diagonal elements of $A$."
   ]
  },
  {
   "cell_type": "markdown",
   "metadata": {},
   "source": [
    "### Theorem\n",
    "if the characteristic equation of $A_{n \\times n}$ is:\n",
    "$$\n",
    "\\begin{align*}\n",
    "\\lambda^n + c_1 \\lambda^{n-1} + c_2 \\lambda^{n-2} + \\ldots + c_{n-1} \\lambda + c_n = 0\n",
    "\\end{align*}\n",
    "$$\n",
    "and if $s_k$ is the $k^{th}$ symmetric function, then:\n",
    "$$\n",
    "\\begin{align*}\n",
    "c_k = (-1)^k \\sum_{}(all \\ k \\times k \\ principal \\ minors)\n",
    "\\end{align*}\n",
    "$$\n",
    "$$\n",
    "\\begin{align*}\n",
    "s_k = \\sum_{}(all \\ k \\times k \\ principal \\ minors)\n",
    "\\end{align*}\n",
    "$$\n",
    "$$\n",
    "\\begin{align*}\n",
    "trace(A) = \\lambda_1 + \\lambda_2 + \\ldots + \\lambda_n = -c_1\n",
    "\\end{align*}\n",
    "$$\n",
    "$$\n",
    "\\begin{align*}\n",
    "\\det(A) = \\lambda_1 \\lambda_2 \\ldots \\lambda_n = (-1)^n c_n\n",
    "\\end{align*}\n",
    "$$\n"
   ]
  },
  {
   "cell_type": "markdown",
   "metadata": {},
   "source": [
    "### Question 1\n",
    "#### Determine the eigenvalues and eigenvectors of \n",
    "$$\n",
    "A = \n",
    "\\begin{bmatrix}\n",
    "-3 & 1 & -3 \\\\\n",
    "20 & 3 & 10 \\\\\n",
    "2 & -2 & 4\n",
    "\\end{bmatrix}\n",
    "$$\n",
    "\n",
    "you should do all the calculations by programming."
   ]
  },
  {
   "cell_type": "code",
   "execution_count": null,
   "metadata": {},
   "outputs": [],
   "source": [
    "# write your codes here"
   ]
  },
  {
   "cell_type": "markdown",
   "metadata": {},
   "source": [
    "## similarity \n",
    "* two $n \\times n$ matrices $A$ and $B$ are **similar** if there is an invertible(nonsingular) matrix $P$ such that:\n",
    "$$\n",
    "\\begin{align*}\n",
    "B = P^{-1} A P\n",
    "\\end{align*}\n",
    "$$\n",
    "\n",
    "* A fundumental problem, Given a square matrix $A$, reduce it to the simplest possible form by means of a similarity transformation.\n",
    "\n",
    "* Diagonal matrices have the simplest form."
   ]
  },
  {
   "cell_type": "markdown",
   "metadata": {},
   "source": [
    "### Diagonalizability\n",
    "\n",
    "* a square matrix $A$ is **diagonalizable** whenever $A$ is similar to a diagonal matrix.\n",
    "\n",
    "* A complete set of eigenvectors of $A$ is a set of $n$ linearly independent eigenvectors of $A$. \n",
    "\n",
    "* $A_{n \\times n}$ is diagonalizable if and only if $A$ possesses a complete set of eigenvectors. \n",
    "    $P^{-1} A P = diag(\\lambda_1, \\lambda_2, \\ldots, \\lambda_n)$ if and only if the columns of $P$ are a complete set of eigenvectors of $A$.\n",
    "\n",
    "* the $\\lambda_j$ associated with the eigenvector $P_*j$. so the $(\\lambda_j, P_*j)$ is an eigenpair of $A$."
   ]
  },
  {
   "cell_type": "markdown",
   "metadata": {},
   "source": [
    "### Question 2\n",
    "#### If possible, diagonalize the following matrix with a similarity transformation:\n",
    "$$\n",
    "A = \n",
    "\\begin{bmatrix}\n",
    "1 & -4 & -4 \\\\\n",
    "8 & -11 & -8 \\\\\n",
    "-8 & 8 & 5\n",
    "\\end{bmatrix}\n",
    "$$\n",
    "\n",
    "do all the calculations by programming."
   ]
  },
  {
   "cell_type": "code",
   "execution_count": 5,
   "metadata": {},
   "outputs": [],
   "source": [
    "# write your codes here"
   ]
  },
  {
   "cell_type": "markdown",
   "metadata": {},
   "source": [
    "after now the discussion is limited to a single finite-dimensional space $V$ and to linear\n",
    "operators on $V$.\n",
    "Begin by examining how the coordinates of $v \\in V$ changes as the bases of $V$ changes.\n",
    "consider two different bases:\n",
    "$$\n",
    "\\begin{align*}\n",
    "B = \\{x_1, x_2, \\ldots, x_n\\} \\\\\n",
    "B' = \\{y_1, y_2, \\ldots, y_n\\}\n",
    "\\end{align*}\n",
    "$$\n",
    "\n",
    "$B$ is the old basis and $B'$ is the new basis for $V$.\n",
    "\n",
    "$T$ will denote a linear operator on $V$.\n",
    "\n",
    "$$\n",
    "\\begin{align*}\n",
    "T(x_{i}) = y_{i}\n",
    "\\end{align*}\n",
    "\\space\n",
    "\\space\n",
    "\\space\n",
    "\\begin{align*} \n",
    "for \\ i = 1, 2, \\ldots, n\n",
    "\\end{align*}\n",
    "$$"
   ]
  },
  {
   "cell_type": "markdown",
   "metadata": {},
   "source": [
    "$T$ is called the **the change of basis operator** because it maps the new basis vectors to the old basis vectors."
   ]
  },
  {
   "cell_type": "markdown",
   "metadata": {},
   "source": [
    "$$\n",
    "P = [T]_{B} = [T]_{B'} \n",
    "$$\n",
    "\n",
    "theorem: \n",
    "* $[v]_{B'} = P[v]_{B} \\space \\space for \\ all \\ v \\in V$\n",
    "* $P$ is nonsingular \n",
    "* no martix can be used in place of $P$."
   ]
  },
  {
   "cell_type": "markdown",
   "metadata": {},
   "source": [
    "let $A$ be a linear operatation of $V$ and let $B$ and $B'$ be two bases for $V$.\n",
    "the coordinate matrix of $[A]_{B'}$ and $[A]_{B}$ are related by the equation:\n",
    "$$\n",
    "\\begin{align*}\n",
    "[A]_{B} = P^{-1} [A]_{B'} P\n",
    "\\end{align*}\n",
    "$$\n",
    "where $P$ is $[I]_{BB'}$ (Transformation matrix).\n",
    "\n",
    "Equvalently:\n",
    "$$\n",
    "\\begin{align*}\n",
    "[A]_{B'} = Q^{-1} [A]_{B} Q \n",
    "\\end{align*}\n",
    "$$\n",
    "where $Q$ is $[I]_{B'B}$ and $Q = P^{-1}$.\n"
   ]
  },
  {
   "cell_type": "markdown",
   "metadata": {},
   "source": [
    "### Question 3\n",
    "#### write a function that takes the transformation matrix $A$ and two bases $B$ and $B'$ as input and returns the transformation matrix $A$ in the new basis $B'$."
   ]
  },
  {
   "cell_type": "code",
   "execution_count": 1,
   "metadata": {},
   "outputs": [],
   "source": [
    "def change_bases(A: list, B: list, Bp: list) -> list:\n",
    "    Ap = []\n",
    "    # write your codes here\n",
    "    return Ap\n"
   ]
  },
  {
   "cell_type": "markdown",
   "metadata": {},
   "source": [
    "### Question 4\n",
    "#### write a function that takes two different transformation matrices $A$ and $B$ and check if they are similar or not if they are similar return the similarity transformation matrix $P$.\n"
   ]
  },
  {
   "cell_type": "code",
   "execution_count": 2,
   "metadata": {},
   "outputs": [],
   "source": [
    "def check_similarity(A, B):\n",
    "    P = []\n",
    "    similar = False\n",
    "    # write your codes here\n",
    "    return similar, P"
   ]
  },
  {
   "cell_type": "markdown",
   "metadata": {},
   "source": [
    "If no eigenvalue of A is repeated, then A is diagonalizable. Caution! The converse is not true"
   ]
  },
  {
   "cell_type": "markdown",
   "metadata": {},
   "source": [
    "### Question 5\n",
    "get the matrix $A$ and check if there is an eigenvalue of $A$ is repeated or not. "
   ]
  },
  {
   "cell_type": "code",
   "execution_count": 4,
   "metadata": {},
   "outputs": [],
   "source": [
    "def check_equivalence(A):\n",
    "    is_repeated = False\n",
    "    # write your codes here\n",
    "    return is_repeated"
   ]
  }
 ],
 "metadata": {
  "kernelspec": {
   "display_name": "Python 3",
   "language": "python",
   "name": "python3"
  },
  "language_info": {
   "codemirror_mode": {
    "name": "ipython",
    "version": 3
   },
   "file_extension": ".py",
   "mimetype": "text/x-python",
   "name": "python",
   "nbconvert_exporter": "python",
   "pygments_lexer": "ipython3",
   "version": "3.11.3"
  }
 },
 "nbformat": 4,
 "nbformat_minor": 2
}
